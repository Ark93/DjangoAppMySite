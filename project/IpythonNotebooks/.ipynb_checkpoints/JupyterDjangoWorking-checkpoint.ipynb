{
 "cells": [
  {
   "cell_type": "code",
   "execution_count": 3,
   "metadata": {},
   "outputs": [],
   "source": [
    "MYPROJECT = 'C:/Users/santo/DjangoAppMySite/project'\n",
    "import os, sys\n",
    "sys.path.insert(0, MYPROJECT)\n",
    "os.environ.setdefault(\"DJANGO_SETTINGS_MODULE\", \"local_settings.py\")\n",
    "import django\n",
    "django.setup()\n",
    "# see https://stackoverflow.com/questions/35483328/how-to-setup-jupyter-ipython-notebook-for-django\n",
    "#remember to run jupyter notebook from django server"
   ]
  },
  {
   "cell_type": "code",
   "execution_count": 5,
   "metadata": {},
   "outputs": [],
   "source": [
    "from transactions.models import Transaccion"
   ]
  },
  {
   "cell_type": "code",
   "execution_count": 6,
   "metadata": {},
   "outputs": [
    {
     "data": {
      "text/plain": [
       "<QuerySet [<Transaccion: 2018-03-02 06:00:00+00:00 cargo: 40.27 abono: 0.0>, <Transaccion: 2018-03-01 06:00:00+00:00 cargo: 648.0 abono: 0.0>, <Transaccion: 2018-02-28 06:00:00+00:00 cargo: 6822.25 abono: 0.0>, <Transaccion: 2018-02-28 06:00:00+00:00 cargo: 0.0 abono: -7000.0>, <Transaccion: 2018-02-26 06:00:00+00:00 cargo: 47.66 abono: 0.0>, <Transaccion: 2018-02-26 06:00:00+00:00 cargo: 40.49 abono: 0.0>, <Transaccion: 2018-02-26 06:00:00+00:00 cargo: 82.8 abono: 0.0>, <Transaccion: 2018-02-26 06:00:00+00:00 cargo: 338.0 abono: 0.0>, <Transaccion: 2018-02-25 06:00:00+00:00 cargo: 22.0 abono: 0.0>, <Transaccion: 2018-02-24 06:00:00+00:00 cargo: 386.4 abono: 0.0>, <Transaccion: 2018-02-23 06:00:00+00:00 cargo: 393.8 abono: 0.0>, <Transaccion: 2018-02-23 06:00:00+00:00 cargo: 664.0 abono: 0.0>, <Transaccion: 2018-02-23 06:00:00+00:00 cargo: 785.0 abono: 0.0>, <Transaccion: 2018-02-22 06:00:00+00:00 cargo: 40.41 abono: 0.0>, <Transaccion: 2018-02-21 06:00:00+00:00 cargo: 150.0 abono: 0.0>, <Transaccion: 2018-02-20 06:00:00+00:00 cargo: 419.68 abono: 0.0>, <Transaccion: 2018-02-18 06:00:00+00:00 cargo: 123.95 abono: 0.0>, <Transaccion: 2018-02-18 06:00:00+00:00 cargo: 54.0 abono: 0.0>, <Transaccion: 2018-02-18 06:00:00+00:00 cargo: 104.55 abono: 0.0>, <Transaccion: 2018-02-18 06:00:00+00:00 cargo: 81.87 abono: 0.0>, '...(remaining elements truncated)...']>"
      ]
     },
     "execution_count": 6,
     "metadata": {},
     "output_type": "execute_result"
    }
   ],
   "source": [
    "Transaccion.objects.all()"
   ]
  }
 ],
 "metadata": {
  "kernelspec": {
   "display_name": "Django Shell-Plus",
   "language": "python",
   "name": "django_extensions"
  },
  "language_info": {
   "codemirror_mode": {
    "name": "ipython",
    "version": 3
   },
   "file_extension": ".py",
   "mimetype": "text/x-python",
   "name": "python",
   "nbconvert_exporter": "python",
   "pygments_lexer": "ipython3",
   "version": "3.6.4"
  }
 },
 "nbformat": 4,
 "nbformat_minor": 2
}
